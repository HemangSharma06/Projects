{
 "cells": [
  {
   "cell_type": "code",
   "execution_count": 3,
   "id": "ef0daf54-6f10-4c52-b236-92cacbdc7f6c",
   "metadata": {},
   "outputs": [
    {
     "name": "stderr",
     "output_type": "stream",
     "text": [
      "[nltk_data] Downloading package stopwords to C:\\Users\\Hemang\n",
      "[nltk_data]     Sharma\\AppData\\Roaming\\nltk_data...\n",
      "[nltk_data]   Package stopwords is already up-to-date!\n"
     ]
    },
    {
     "name": "stdout",
     "output_type": "stream",
     "text": [
      "     v1                                                 v2 Unnamed: 2  \\\n",
      "0   ham  Go until jurong point, crazy.. Available only ...        NaN   \n",
      "1   ham                      Ok lar... Joking wif u oni...        NaN   \n",
      "2  spam  Free entry in 2 a wkly comp to win FA Cup fina...        NaN   \n",
      "3   ham  U dun say so early hor... U c already then say...        NaN   \n",
      "4   ham  Nah I don't think he goes to usf, he lives aro...        NaN   \n",
      "\n",
      "  Unnamed: 3 Unnamed: 4  \n",
      "0        NaN        NaN  \n",
      "1        NaN        NaN  \n",
      "2        NaN        NaN  \n",
      "3        NaN        NaN  \n",
      "4        NaN        NaN  \n",
      "v1            0.000000\n",
      "v2            0.000000\n",
      "Unnamed: 2    0.991027\n",
      "Unnamed: 3    0.997846\n",
      "Unnamed: 4    0.998923\n",
      "dtype: float64\n",
      "Train accuracy =  0.9984800331629128 \n",
      "Test Accuracy =  0.9859096560298384\n",
      "              precision    recall  f1-score   support\n",
      "\n",
      "           0       0.98      0.99      0.99      1226\n",
      "           1       0.99      0.98      0.99      1187\n",
      "\n",
      "    accuracy                           0.99      2413\n",
      "   macro avg       0.99      0.99      0.99      2413\n",
      "weighted avg       0.99      0.99      0.99      2413\n",
      "\n"
     ]
    }
   ],
   "source": [
    "import pandas as pd\n",
    "import joblib\n",
    "import numpy as np\n",
    "from sklearn.preprocessing import LabelEncoder as LE\n",
    "import string\n",
    "from sklearn.feature_extraction.text import TfidfVectorizer\n",
    "from nltk.corpus import stopwords\n",
    "import nltk\n",
    "from imblearn.over_sampling import SMOTE\n",
    "from xgboost import XGBClassifier as XGBC\n",
    "from sklearn.model_selection import train_test_split as TTS\n",
    "from sklearn.metrics import classification_report as CR\n",
    "nltk.download('stopwords')\n",
    "\n",
    "data = pd.read_csv('spam.csv', encoding='latin-1')\n",
    "print(data.head())\n",
    "print(data.isnull().sum()/data.shape[0])\n",
    "data = data.iloc[:,0:2]\n",
    "le = LE()\n",
    "data['v1'] = le.fit_transform(data['v1'])\n",
    "def clean_text(text):\n",
    "    text = text.lower()\n",
    "    text = text.translate(str.maketrans('', '', string.punctuation))\n",
    "    return text\n",
    "data['text_clean'] = data['v2'].apply(clean_text)\n",
    "vectorizer = TfidfVectorizer()\n",
    "X = vectorizer.fit_transform(data['text_clean'])\n",
    "y = data['v1']\n",
    "sm = SMOTE(random_state=42)\n",
    "x_new, y_new = sm.fit_resample(X, y)\n",
    "x_train, x_test, y_train, y_test = TTS(x_new, y_new, random_state=42, test_size=0.25)\n",
    "model = XGBC()\n",
    "model.fit(x_train, y_train)\n",
    "print('Train accuracy = ', model.score(x_train, y_train), '\\nTest Accuracy = ',model.score(x_test, y_test))\n",
    "y_pred = model.predict(x_test)\n",
    "print(CR(y_test, y_pred))"
   ]
  },
  {
   "cell_type": "code",
   "execution_count": null,
   "id": "15b07efc-3566-42fd-8c52-eb92a10e96ed",
   "metadata": {},
   "outputs": [],
   "source": []
  }
 ],
 "metadata": {
  "kernelspec": {
   "display_name": "Python 3 (ipykernel)",
   "language": "python",
   "name": "python3"
  },
  "language_info": {
   "codemirror_mode": {
    "name": "ipython",
    "version": 3
   },
   "file_extension": ".py",
   "mimetype": "text/x-python",
   "name": "python",
   "nbconvert_exporter": "python",
   "pygments_lexer": "ipython3",
   "version": "3.12.5"
  }
 },
 "nbformat": 4,
 "nbformat_minor": 5
}
