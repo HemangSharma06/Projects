{
 "cells": [
  {
   "cell_type": "code",
   "execution_count": 1,
   "id": "82a741ba-567c-46fe-886d-885f72ddeb11",
   "metadata": {},
   "outputs": [
    {
     "name": "stderr",
     "output_type": "stream",
     "text": [
      "[nltk_data] Downloading package stopwords to C:\\Users\\Hemang\n",
      "[nltk_data]     Sharma\\AppData\\Roaming\\nltk_data...\n",
      "[nltk_data]   Package stopwords is already up-to-date!\n"
     ]
    },
    {
     "name": "stdout",
     "output_type": "stream",
     "text": [
      "     v1                                                 v2 Unnamed: 2 Unnamed: 3 Unnamed: 4\n",
      "0   ham  Go until jurong point, crazy.. Available only ...        NaN        NaN        NaN\n",
      "1   ham                      Ok lar... Joking wif u oni...        NaN        NaN        NaN\n",
      "2  spam  Free entry in 2 a wkly comp to win FA Cup fina...        NaN        NaN        NaN\n",
      "3   ham  U dun say so early hor... U c already then say...        NaN        NaN        NaN\n",
      "4   ham  Nah I don't think he goes to usf, he lives aro...        NaN        NaN        NaN\n",
      "v1            0.000000\n",
      "v2            0.000000\n",
      "Unnamed: 2    0.991027\n",
      "Unnamed: 3    0.997846\n",
      "Unnamed: 4    0.998923\n",
      "dtype: float64\n",
      "Train accuracy =  0.9995854635898853 \n",
      "Test Accuracy =  0.9958557811852465\n",
      "              precision    recall  f1-score   support\n",
      "\n",
      "           0       1.00      1.00      1.00      1226\n",
      "           1       1.00      0.99      1.00      1187\n",
      "\n",
      "    accuracy                           1.00      2413\n",
      "   macro avg       1.00      1.00      1.00      2413\n",
      "weighted avg       1.00      1.00      1.00      2413\n",
      "\n"
     ]
    }
   ],
   "source": [
    "import pandas as pd\n",
    "import joblib\n",
    "import numpy as np\n",
    "from sklearn.preprocessing import LabelEncoder as LE\n",
    "import string\n",
    "from sklearn.feature_extraction.text import TfidfVectorizer\n",
    "from nltk.corpus import stopwords\n",
    "import nltk\n",
    "from imblearn.over_sampling import SMOTE\n",
    "from sklearn.svm import SVC\n",
    "from sklearn.model_selection import train_test_split as TTS\n",
    "from sklearn.metrics import classification_report as CR\n",
    "nltk.download('stopwords')\n",
    "\n",
    "data = pd.read_csv('spam.csv', encoding='latin-1')\n",
    "print(data.head())\n",
    "print(data.isnull().sum()/data.shape[0])\n",
    "data = data.iloc[:,0:2]\n",
    "le = LE()\n",
    "data['v1'] = le.fit_transform(data['v1'])\n",
    "def clean_text(text):\n",
    "    text = text.lower()\n",
    "    text = text.translate(str.maketrans('', '', string.punctuation))\n",
    "    return text\n",
    "data['text_clean'] = data['v2'].apply(clean_text)\n",
    "vectorizer = TfidfVectorizer()\n",
    "X = vectorizer.fit_transform(data['text_clean'])\n",
    "y = data['v1']\n",
    "sm = SMOTE(random_state=42)\n",
    "x_new, y_new = sm.fit_resample(X, y)\n",
    "x_train, x_test, y_train, y_test = TTS(x_new, y_new, random_state=42, test_size=0.25)\n",
    "model = SVC(random_state = 42, kernel='linear')\n",
    "model.fit(x_train, y_train)\n",
    "print('Train accuracy = ', model.score(x_train, y_train), '\\nTest Accuracy = ',model.score(x_test, y_test))\n",
    "y_pred = model.predict(x_test)\n",
    "print(CR(y_test, y_pred))"
   ]
  },
  {
   "cell_type": "code",
   "execution_count": 5,
   "id": "2998352f-ff57-4b59-94ff-5e7604cb2589",
   "metadata": {},
   "outputs": [],
   "source": [
    "from sklearn.metrics import ConfusionMatrixDisplay as CMD, confusion_matrix as cm\n",
    "import matplotlib.pyplot as plt"
   ]
  },
  {
   "cell_type": "code",
   "execution_count": 3,
   "id": "6421dedd-411e-4adc-b462-3e2d06f97df9",
   "metadata": {},
   "outputs": [],
   "source": [
    "mat = cm(y_test, y_pred)"
   ]
  },
  {
   "cell_type": "code",
   "execution_count": 4,
   "id": "a76d0f01-67c5-4283-9eb2-bc7d58b49146",
   "metadata": {},
   "outputs": [],
   "source": [
    "disp = CMD(mat, display_labels=model.classes_)"
   ]
  },
  {
   "cell_type": "code",
   "execution_count": 7,
   "id": "0335f347-3b84-4a90-856c-0c04246e4357",
   "metadata": {},
   "outputs": [
    {
     "data": {
      "image/png": "[encoded data removed]",
      "text/plain": [
       "<Figure size 640x480 with 2 Axes>"
      ]
     },
     "metadata": {},
     "output_type": "display_data"
    }
   ],
   "source": [
    "disp = CMD(mat, display_labels=model.classes_)\n",
    "disp.plot(cmap='Blues')\n",
    "plt.show()"
   ]
  },
  {
   "cell_type": "code",
   "execution_count": 8,
   "id": "10c62cba-c422-4439-9488-5c60cd353678",
   "metadata": {},
   "outputs": [
    {
     "data": {
      "text/plain": [
       "['label_encoder.pkl']"
      ]
     },
     "execution_count": 8,
     "metadata": {},
     "output_type": "execute_result"
    }
   ],
   "source": [
    "joblib.dump(le, 'label_encoder.pkl')"
   ]
  },
  {
   "cell_type": "code",
   "execution_count": 9,
   "id": "fec64593-d2d4-4f1c-a60c-25c9677832ac",
   "metadata": {},
   "outputs": [
    {
     "data": {
      "text/plain": [
       "['model.pkl']"
      ]
     },
     "execution_count": 9,
     "metadata": {},
     "output_type": "execute_result"
    }
   ],
   "source": [
    "joblib.dump(model, 'model.pkl')"
   ]
  },
  {
   "cell_type": "code",
   "execution_count": 10,
   "id": "4c4c1f80-073c-4bf4-bd06-22d39b3341e7",
   "metadata": {},
   "outputs": [
    {
     "data": {
      "text/plain": [
       "['text_clean.pkl']"
      ]
     },
     "execution_count": 10,
     "metadata": {},
     "output_type": "execute_result"
    }
   ],
   "source": [
    "joblib.dump(vectorizer, 'text_clean.pkl')"
   ]
  },
  {
   "cell_type": "code",
   "execution_count": null,
   "id": "f516405b-d28c-4be4-85e0-e67d740ab289",
   "metadata": {},
   "outputs": [],
   "source": []
  }
 ],
 "metadata": {
  "kernelspec": {
   "display_name": "Python 3 (ipykernel)",
   "language": "python",
   "name": "python3"
  },
  "language_info": {
   "codemirror_mode": {
    "name": "ipython",
    "version": 3
   },
   "file_extension": ".py",
   "mimetype": "text/x-python",
   "name": "python",
   "nbconvert_exporter": "python",
   "pygments_lexer": "ipython3",
   "version": "3.12.5"
  }
 },
 "nbformat": 4,
 "nbformat_minor": 5
}
